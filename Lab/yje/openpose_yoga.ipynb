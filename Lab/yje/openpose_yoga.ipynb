{
  "nbformat": 4,
  "nbformat_minor": 0,
  "metadata": {
    "colab": {
      "name": "openpose_yoga.ipynb",
      "provenance": [],
      "collapsed_sections": [],
      "toc_visible": true
    },
    "kernelspec": {
      "name": "python3",
      "display_name": "Python 3"
    },
    "accelerator": "GPU"
  },
  "cells": [
    {
      "cell_type": "markdown",
      "metadata": {
        "id": "X38L6tanrnrB"
      },
      "source": [
        "# Goal : Pose Detection with OpenPose\n",
        "\n",
        "This notebook uses an open source project [CMU-Perceptual-Computing-Lab/openpose](https://github.com/CMU-Perceptual-Computing-Lab/openpose.git) to detect/track multi person poses on a given video.\n",
        "\n",
        "For other deep-learning Colab notebooks, visit [tugstugi/dl-colab-notebooks](https://github.com/tugstugi/dl-colab-notebooks).\n"
      ]
    },
    {
      "cell_type": "markdown",
      "metadata": {
        "id": "iCa3v0QpzfwX"
      },
      "source": [
        "## 1. Google drive 연결"
      ]
    },
    {
      "cell_type": "code",
      "metadata": {
        "id": "vnEhR8GG-cCN"
      },
      "source": [
        "#from google.colab import drive\n",
        "#drive.mount('/content/drive')\n",
        "\n",
        "%cd /content\n",
        "!mkdir input\n",
        "!wget https://github.com/jeeenn/SportsFriends/raw/master/Data/yogaFriend_demo.mp4 -P /content/input"
      ],
      "execution_count": null,
      "outputs": []
    },
    {
      "cell_type": "markdown",
      "metadata": {
        "id": "MxQnJ-81P6zL"
      },
      "source": [
        "## 2. Install OpenPose"
      ]
    },
    {
      "cell_type": "code",
      "metadata": {
        "id": "1-nWVShzLZEZ"
      },
      "source": [
        "import os\n",
        "from os.path import exists, join, basename, splitext\n",
        "\n",
        "git_repo_url = 'https://github.com/CMU-Perceptual-Computing-Lab/openpose.git'\n",
        "project_name = splitext(basename(git_repo_url))[0]\n",
        "if not exists(project_name):\n",
        "  # see: https://github.com/CMU-Perceptual-Computing-Lab/openpose/issues/949\n",
        "  # install new CMake becaue of CUDA10\n",
        "  !wget -q https://cmake.org/files/v3.13/cmake-3.13.0-Linux-x86_64.tar.gz"
      ],
      "execution_count": 2,
      "outputs": []
    },
    {
      "cell_type": "code",
      "metadata": {
        "id": "JNxotjo-Llc1"
      },
      "source": [
        "  !tar xfz cmake-3.13.0-Linux-x86_64.tar.gz --strip-components=1 -C /usr/local\n",
        "  # clone openpose\n",
        "  !git clone -q --depth 1 $git_repo_url\n",
        "  !sed -i 's/execute_process(COMMAND git checkout master WORKING_DIRECTORY ${CMAKE_SOURCE_DIR}\\/3rdparty\\/caffe)/execute_process(COMMAND git checkout f019d0dfe86f49d1140961f8c7dec22130c83154 WORKING_DIRECTORY ${CMAKE_SOURCE_DIR}\\/3rdparty\\/caffe)/g' openpose/CMakeLists.txt\n",
        "  # install system dependencies\n",
        "  !apt-get -qq install -y libatlas-base-dev libprotobuf-dev libleveldb-dev libsnappy-dev libhdf5-serial-dev protobuf-compiler libgflags-dev libgoogle-glog-dev liblmdb-dev opencl-headers ocl-icd-opencl-dev libviennacl-dev\n"
      ],
      "execution_count": null,
      "outputs": []
    },
    {
      "cell_type": "code",
      "metadata": {
        "id": "I74ZZ9yQMAjq"
      },
      "source": [
        "  # build openpose\n",
        "  !cd openpose && rm -rf build || true && mkdir build && cd build && cmake .. && make -j`nproc`"
      ],
      "execution_count": null,
      "outputs": []
    },
    {
      "cell_type": "markdown",
      "metadata": {
        "id": "n5L3Z5YVrZ2R"
      },
      "source": [
        "## 3. Detect poses on a test video\n",
        "\n",
        "We are going to detect poses on the following yoga video:"
      ]
    },
    {
      "cell_type": "markdown",
      "metadata": {
        "id": "EqYFh_w9xkUJ"
      },
      "source": [
        "*   set input/output/model path \n",
        "*   set input file type/input_cut_time"
      ]
    },
    {
      "cell_type": "code",
      "metadata": {
        "id": "FUDpBlXMv8RX",
        "outputId": "4a1f6e50-9e7d-449d-e211-7efd21282b2e",
        "colab": {
          "base_uri": "https://localhost:8080/",
          "height": 35
        }
      },
      "source": [
        "import glob\n",
        "import os\n",
        "from google.colab import files\n",
        "\n",
        "model_path = '/content/openpose'  \n",
        "#input_path = '/content/drive/My Drive/yoga_video'\n",
        "input_path = '/content/input'\n",
        "output_path = '/content/output'\n",
        "output_file_path = \"\".join([output_path, '/file'])\n",
        "output_json_path = \"\".join([output_path, '/json'])\n",
        "\n",
        "os.system(f\"rm -rf '{output_path}'\")\n",
        "os.mkdir(output_path)\n",
        "os.mkdir(output_file_path)\n",
        "os.mkdir(output_json_path)\n",
        "\n",
        "input_file_type = \"mp4\"\n",
        "input_cut_time = 10\n",
        "\n",
        "%cd $model_path"
      ],
      "execution_count": 53,
      "outputs": [
        {
          "output_type": "stream",
          "text": [
            "/content/openpose\n"
          ],
          "name": "stdout"
        }
      ]
    },
    {
      "cell_type": "markdown",
      "metadata": {
        "id": "MdnfscY2xzal"
      },
      "source": [
        "*   *file cut /detecte key point /output : video file & json*\n",
        "*   origin_file_path = 'content/output/Abhay_Bhuj.mp4' <br/>\n",
        "    origin_file_name = 'Abhay_Bhuj.mp4' <br/>\n",
        "    temp_file_name = 'content/output/openpose.avi' <br/>\n",
        "*   결과    \n",
        "    output_file_name = 'content/output/file/Abhay_Bhuj.mp4' <br/>\n",
        "    output_json_name = 'content/output/json/Abhay_Bhuj_xxx.json'"
      ]
    },
    {
      "cell_type": "code",
      "metadata": {
        "id": "QejOayQuvr5m"
      },
      "source": [
        "def detect_keypoint_file(file_name):\n",
        "  \n",
        "  origin_file_path = \"\".join([output_path, '/', file_name.split('/')[-1]])\n",
        "  origin_file_name = file_name.split('/')[-1].split('.')[0]  \n",
        "  temp_file_name = \"\".join([output_path, '/', 'openpose.avi'])\n",
        "  output_file_name = \"\".join([output_file_path, '/', origin_file_name, '.', input_file_type])\n",
        "  output_json_name = \"\".join([output_json_path, '/', origin_file_name])\n",
        "    \n",
        "  os.system(f\"ffmpeg -y -loglevel info -i '{file_name}' -t {input_cut_time} '{origin_file_path}'\")\n",
        "  os.system(f\"./build/examples/openpose/openpose.bin --keypoint_scale 3 --frame_step 3 --video '{origin_file_path}' --write_json '{output_json_name}/' --display 0 --write_video '{temp_file_name}'\")\n",
        "  os.system(f\"ffmpeg -y -loglevel info -i '{temp_file_name}' '{output_file_name}'\")\n",
        "  os.system(f\"rm -rf '{origin_file_path}'\")\n",
        "  os.system(f\"rm -rf '{temp_file_name}'\")\n",
        "  "
      ],
      "execution_count": 49,
      "outputs": []
    },
    {
      "cell_type": "code",
      "metadata": {
        "id": "WLUu1lGcvkoo"
      },
      "source": [
        "def show_local_mp4_video(file_name, width=640, height=480):\n",
        "  import io\n",
        "  import base64\n",
        "  from IPython.display import HTML\n",
        "  video_encoded = base64.b64encode(io.open(file_name, 'rb').read())\n",
        "  return HTML(data='''<video width=\"{0}\" height=\"{1}\" alt=\"test\" controls>\n",
        "                        <source src=\"data:video/mp4;base64,{2}\" type=\"video/mp4\" />\n",
        "                      </video>'''.format(width, height, video_encoded.decode('ascii')))"
      ],
      "execution_count": 57,
      "outputs": []
    },
    {
      "cell_type": "markdown",
      "metadata": {
        "id": "P9dSHoBvyURb"
      },
      "source": [
        "* file(video).zip / json.zip 생성\n",
        "* local machine download"
      ]
    },
    {
      "cell_type": "code",
      "metadata": {
        "id": "QLM0q2hqczBq"
      },
      "source": [
        "def download_file():\n",
        "  file_zip_name = \"\".join([output_file_path, '.zip'])\n",
        "  json_zip_name = \"\".join([output_json_path, '.zip'])\n",
        "\n",
        "  os.system(f\"zip -s 25 '{file_zip_name}' '{output_file_path}'\")\n",
        "  files.download(file_zip_name)\n",
        "  \n",
        "  os.system(f\"zip -s 25 '{json_zip_name}' '{output_json_path}'\")\n",
        "  files.download(json_zip_name)  "
      ],
      "execution_count": 7,
      "outputs": []
    },
    {
      "cell_type": "markdown",
      "metadata": {
        "id": "jiJpDXxgyL1g"
      },
      "source": [
        "*   loop input file count"
      ]
    },
    {
      "cell_type": "code",
      "metadata": {
        "id": "7MwJPtErS9aC"
      },
      "source": [
        "for file_name in glob.glob(\"\".join([input_path, '/*', input_file_type])):     \n",
        "  detect_keypoint_file(file_name)  "
      ],
      "execution_count": null,
      "outputs": []
    },
    {
      "cell_type": "code",
      "metadata": {
        "id": "1iRCZvIvoGst"
      },
      "source": [
        "show_local_mp4_video('/content/output/file/yogaFriend_demo.mp4', width=480, height=360)"
      ],
      "execution_count": null,
      "outputs": []
    },
    {
      "cell_type": "code",
      "metadata": {
        "id": "4y5obDDQe-kF",
        "outputId": "ca73e4aa-5875-45ac-bdab-0ce969f4fae0",
        "colab": {
          "base_uri": "https://localhost:8080/",
          "height": 17
        }
      },
      "source": [
        "download_file()"
      ],
      "execution_count": null,
      "outputs": [
        {
          "output_type": "display_data",
          "data": {
            "application/javascript": [
              "\n",
              "    async function download(id, filename, size) {\n",
              "      if (!google.colab.kernel.accessAllowed) {\n",
              "        return;\n",
              "      }\n",
              "      const div = document.createElement('div');\n",
              "      const label = document.createElement('label');\n",
              "      label.textContent = `Downloading \"${filename}\": `;\n",
              "      div.appendChild(label);\n",
              "      const progress = document.createElement('progress');\n",
              "      progress.max = size;\n",
              "      div.appendChild(progress);\n",
              "      document.body.appendChild(div);\n",
              "\n",
              "      const buffers = [];\n",
              "      let downloaded = 0;\n",
              "\n",
              "      const channel = await google.colab.kernel.comms.open(id);\n",
              "      // Send a message to notify the kernel that we're ready.\n",
              "      channel.send({})\n",
              "\n",
              "      for await (const message of channel.messages) {\n",
              "        // Send a message to notify the kernel that we're ready.\n",
              "        channel.send({})\n",
              "        if (message.buffers) {\n",
              "          for (const buffer of message.buffers) {\n",
              "            buffers.push(buffer);\n",
              "            downloaded += buffer.byteLength;\n",
              "            progress.value = downloaded;\n",
              "          }\n",
              "        }\n",
              "      }\n",
              "      const blob = new Blob(buffers, {type: 'application/binary'});\n",
              "      const a = document.createElement('a');\n",
              "      a.href = window.URL.createObjectURL(blob);\n",
              "      a.download = filename;\n",
              "      div.appendChild(a);\n",
              "      a.click();\n",
              "      div.remove();\n",
              "    }\n",
              "  "
            ],
            "text/plain": [
              "<IPython.core.display.Javascript object>"
            ]
          },
          "metadata": {
            "tags": []
          }
        },
        {
          "output_type": "display_data",
          "data": {
            "application/javascript": [
              "download(\"download_3b857161-57e5-48e9-8358-5db799206f2f\", \"file.zip\", 194)"
            ],
            "text/plain": [
              "<IPython.core.display.Javascript object>"
            ]
          },
          "metadata": {
            "tags": []
          }
        },
        {
          "output_type": "display_data",
          "data": {
            "application/javascript": [
              "\n",
              "    async function download(id, filename, size) {\n",
              "      if (!google.colab.kernel.accessAllowed) {\n",
              "        return;\n",
              "      }\n",
              "      const div = document.createElement('div');\n",
              "      const label = document.createElement('label');\n",
              "      label.textContent = `Downloading \"${filename}\": `;\n",
              "      div.appendChild(label);\n",
              "      const progress = document.createElement('progress');\n",
              "      progress.max = size;\n",
              "      div.appendChild(progress);\n",
              "      document.body.appendChild(div);\n",
              "\n",
              "      const buffers = [];\n",
              "      let downloaded = 0;\n",
              "\n",
              "      const channel = await google.colab.kernel.comms.open(id);\n",
              "      // Send a message to notify the kernel that we're ready.\n",
              "      channel.send({})\n",
              "\n",
              "      for await (const message of channel.messages) {\n",
              "        // Send a message to notify the kernel that we're ready.\n",
              "        channel.send({})\n",
              "        if (message.buffers) {\n",
              "          for (const buffer of message.buffers) {\n",
              "            buffers.push(buffer);\n",
              "            downloaded += buffer.byteLength;\n",
              "            progress.value = downloaded;\n",
              "          }\n",
              "        }\n",
              "      }\n",
              "      const blob = new Blob(buffers, {type: 'application/binary'});\n",
              "      const a = document.createElement('a');\n",
              "      a.href = window.URL.createObjectURL(blob);\n",
              "      a.download = filename;\n",
              "      div.appendChild(a);\n",
              "      a.click();\n",
              "      div.remove();\n",
              "    }\n",
              "  "
            ],
            "text/plain": [
              "<IPython.core.display.Javascript object>"
            ]
          },
          "metadata": {
            "tags": []
          }
        },
        {
          "output_type": "display_data",
          "data": {
            "application/javascript": [
              "download(\"download_82461c54-cf07-4f42-b2ba-889e2a782d29\", \"json.zip\", 194)"
            ],
            "text/plain": [
              "<IPython.core.display.Javascript object>"
            ]
          },
          "metadata": {
            "tags": []
          }
        }
      ]
    }
  ]
}