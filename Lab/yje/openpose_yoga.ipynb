{
  "nbformat": 4,
  "nbformat_minor": 0,
  "metadata": {
    "colab": {
      "name": "openpose_yoga.ipynb",
      "provenance": [],
      "collapsed_sections": []
    },
    "kernelspec": {
      "name": "python3",
      "display_name": "Python 3"
    },
    "accelerator": "GPU"
  },
  "cells": [
    {
      "cell_type": "markdown",
      "metadata": {
        "id": "X38L6tanrnrB"
      },
      "source": [
        "# Goal : Pose Detection with OpenPose\n",
        "\n",
        "This notebook uses an open source project [CMU-Perceptual-Computing-Lab/openpose](https://github.com/CMU-Perceptual-Computing-Lab/openpose.git) to detect/track multi person poses on a given video.\n",
        "\n",
        "For other deep-learning Colab notebooks, visit [tugstugi/dl-colab-notebooks](https://github.com/tugstugi/dl-colab-notebooks).\n"
      ]
    },
    {
      "cell_type": "markdown",
      "metadata": {
        "id": "iCa3v0QpzfwX"
      },
      "source": [
        "### 1. Input Data \n",
        " - from github "
      ]
    },
    {
      "cell_type": "code",
      "metadata": {
        "id": "vnEhR8GG-cCN"
      },
      "source": [
        "%cd /content\n",
        "!mkdir input\n",
        "!wget https://github.com/jeeenn/SportsFriends/raw/master/Data/yogaFriend_demo.mp4 -P /content/input/teacher\n",
        "!wget https://github.com/jeeenn/SportsFriends/raw/master/Data/yogaFriend_demo_std.mp4 -P /content/input/student"
      ],
      "execution_count": null,
      "outputs": []
    },
    {
      "cell_type": "markdown",
      "metadata": {
        "id": "MxQnJ-81P6zL"
      },
      "source": [
        "## 2. Install OpenPose"
      ]
    },
    {
      "cell_type": "code",
      "metadata": {
        "id": "1-nWVShzLZEZ"
      },
      "source": [
        "import os\n",
        "from os.path import exists, join, basename, splitext\n",
        "\n",
        "git_repo_url = 'https://github.com/CMU-Perceptual-Computing-Lab/openpose.git'\n",
        "project_name = splitext(basename(git_repo_url))[0]\n",
        "if not exists(project_name):\n",
        "  # see: https://github.com/CMU-Perceptual-Computing-Lab/openpose/issues/949\n",
        "  # install new CMake becaue of CUDA10\n",
        "  !wget -q https://cmake.org/files/v3.13/cmake-3.13.0-Linux-x86_64.tar.gz"
      ],
      "execution_count": 2,
      "outputs": []
    },
    {
      "cell_type": "code",
      "metadata": {
        "id": "JNxotjo-Llc1"
      },
      "source": [
        "  !tar xfz cmake-3.13.0-Linux-x86_64.tar.gz --strip-components=1 -C /usr/local\n",
        "  # clone openpose\n",
        "  !git clone -q --depth 1 $git_repo_url\n",
        "  !sed -i 's/execute_process(COMMAND git checkout master WORKING_DIRECTORY ${CMAKE_SOURCE_DIR}\\/3rdparty\\/caffe)/execute_process(COMMAND git checkout f019d0dfe86f49d1140961f8c7dec22130c83154 WORKING_DIRECTORY ${CMAKE_SOURCE_DIR}\\/3rdparty\\/caffe)/g' openpose/CMakeLists.txt\n",
        "  # install system dependencies\n",
        "  !apt-get -qq install -y libatlas-base-dev libprotobuf-dev libleveldb-dev libsnappy-dev libhdf5-serial-dev protobuf-compiler libgflags-dev libgoogle-glog-dev liblmdb-dev opencl-headers ocl-icd-opencl-dev libviennacl-dev\n"
      ],
      "execution_count": null,
      "outputs": []
    },
    {
      "cell_type": "code",
      "metadata": {
        "id": "I74ZZ9yQMAjq"
      },
      "source": [
        "  # build openpose\n",
        "  !cd openpose && rm -rf build || true && mkdir build && cd build && cmake .. && make -j`nproc`"
      ],
      "execution_count": null,
      "outputs": []
    },
    {
      "cell_type": "markdown",
      "metadata": {
        "id": "n5L3Z5YVrZ2R"
      },
      "source": [
        "## 3. Detect poses on a test video\n",
        "\n",
        "We are going to detect poses on the following yoga video:"
      ]
    },
    {
      "cell_type": "markdown",
      "metadata": {
        "id": "EqYFh_w9xkUJ"
      },
      "source": [
        "*   set input/output/model path \n",
        "*   set input file type/input_cut_time"
      ]
    },
    {
      "cell_type": "code",
      "metadata": {
        "id": "FUDpBlXMv8RX"
      },
      "source": [
        "import glob\n",
        "import os\n",
        "from google.colab import files\n",
        "\n",
        "model_path = '/content/openpose'  \n",
        "#input_path = '/content/drive/My Drive/yoga_video'\n",
        "input_path = '/content/input'\n",
        "input_teacher_path = \"\".join([input_path, '/teacher'])\n",
        "input_student_path = \"\".join([input_path, '/student'])\n",
        "output_path = '/content/output'\n",
        "output_teacher_path = \"\".join([output_path, '/teacher'])\n",
        "output_student_path = \"\".join([output_path, '/student'])\n",
        "output_teacher_file_path = \"\".join([output_teacher_path, '/file'])\n",
        "output_student_file_path = \"\".join([output_student_path, '/file'])\n",
        "output_teacher_json_path = \"\".join([output_teacher_path, '/json'])\n",
        "output_student_json_path = \"\".join([output_student_path, '/json'])\n",
        "\n",
        "os.system(f\"rm -rf '{output_path}'\")\n",
        "os.mkdir(output_path)\n",
        "os.mkdir(output_teacher_path)\n",
        "os.mkdir(output_student_path)\n",
        "os.mkdir(output_teacher_file_path)\n",
        "os.mkdir(output_student_file_path)\n",
        "os.mkdir(output_teacher_json_path)\n",
        "os.mkdir(output_student_json_path)\n",
        "\n",
        "input_file_type = \"mp4\"\n",
        "input_cut_time = 10\n",
        "\n",
        "%cd $model_path"
      ],
      "execution_count": null,
      "outputs": []
    },
    {
      "cell_type": "markdown",
      "metadata": {
        "id": "MdnfscY2xzal"
      },
      "source": [
        "*   *file cut /detecte key point /output : video file & json*\n",
        "*   origin_file_path = 'content/output/teacher/yogaFriend_demo.mp4' <br/>\n",
        "    origin_file_name = 'yogaFriend_demo.mp4' <br/>\n",
        "    temp_file_name = 'content/output/openpose.avi' <br/>\n",
        "*   Output <br/>\n",
        "    output_file_name = 'content/output/teacher/file/yogaFriend_demo.mp4' <br/>\n",
        "    output_json_name = 'content/output/teacher/json/yogaFriend_demo_xxx.json'"
      ]
    },
    {
      "cell_type": "code",
      "metadata": {
        "id": "QejOayQuvr5m"
      },
      "source": [
        "def detect_keypoint_file(file_name, file_path, json_path):\n",
        "  \n",
        "  origin_file_path = \"\".join([output_path, '/', file_name.split('/')[-1]])\n",
        "  origin_file_name = file_name.split('/')[-1].split('.')[0]  \n",
        "  temp_file_name = \"\".join([output_path, '/', 'openpose.avi'])\n",
        "  output_file_name = \"\".join([file_path, '/', origin_file_name, '.', input_file_type])\n",
        "  output_json_name = \"\".join([json_path, '/', origin_file_name])\n",
        "  \n",
        "  os.system(f\"ffmpeg -y -loglevel info -i '{file_name}' -t {input_cut_time} '{origin_file_path}'\")\n",
        "  os.system(f\"./build/examples/openpose/openpose.bin --keypoint_scale 3 --frame_step 3 --video '{origin_file_path}' --write_json '{output_json_name}/' --display 0 --write_video '{temp_file_name}'\")\n",
        "  os.system(f\"ffmpeg -y -loglevel info -i '{temp_file_name}' '{output_file_name}'\")\n",
        "  os.system(f\"rm -rf '{origin_file_path}'\")\n",
        "  os.system(f\"rm -rf '{temp_file_name}'\")\n",
        "  "
      ],
      "execution_count": 8,
      "outputs": []
    },
    {
      "cell_type": "code",
      "metadata": {
        "id": "WLUu1lGcvkoo"
      },
      "source": [
        "def show_local_mp4_video(file_name, width=640, height=480):\n",
        "  import io\n",
        "  import base64\n",
        "  from IPython.display import HTML\n",
        "  video_encoded = base64.b64encode(io.open(file_name, 'rb').read())\n",
        "  return HTML(data='''<video width=\"{0}\" height=\"{1}\" alt=\"test\" controls>\n",
        "                        <source src=\"data:video/mp4;base64,{2}\" type=\"video/mp4\" />\n",
        "                      </video>'''.format(width, height, video_encoded.decode('ascii')))"
      ],
      "execution_count": 9,
      "outputs": []
    },
    {
      "cell_type": "markdown",
      "metadata": {
        "id": "P9dSHoBvyURb"
      },
      "source": [
        "* file(video).zip / json.zip 생성\n",
        "* local machine download"
      ]
    },
    {
      "cell_type": "code",
      "metadata": {
        "id": "QLM0q2hqczBq"
      },
      "source": [
        "def download_file():\n",
        "  zip_name = \"\".join([output_path, '.zip'])\n",
        "\n",
        "  os.system(f\"zip -s 25 -r {zip_name} {output_path}\")\n",
        "  files.download(zip_name)  "
      ],
      "execution_count": 10,
      "outputs": []
    },
    {
      "cell_type": "markdown",
      "metadata": {
        "id": "jiJpDXxgyL1g"
      },
      "source": [
        "*   loop input file count"
      ]
    },
    {
      "cell_type": "code",
      "metadata": {
        "id": "7MwJPtErS9aC"
      },
      "source": [
        "#teacher\n",
        "for file_name in glob.glob(\"\".join([input_teacher_path, '/*', input_file_type])):     \n",
        "  detect_keypoint_file(file_name, output_teacher_file_path, output_teacher_json_path)  "
      ],
      "execution_count": 11,
      "outputs": []
    },
    {
      "cell_type": "code",
      "metadata": {
        "id": "Xx8H0MRZC1_S"
      },
      "source": [
        "#student\n",
        "for file_name in glob.glob(\"\".join([input_student_path, '/*', input_file_type])):     \n",
        "  detect_keypoint_file(file_name, output_student_file_path, output_student_json_path)  "
      ],
      "execution_count": 12,
      "outputs": []
    },
    {
      "cell_type": "code",
      "metadata": {
        "id": "1iRCZvIvoGst"
      },
      "source": [
        "#teacher key point mp4\n",
        "file_name = glob.glob(\"\".join([output_teacher_file_path, '/*', input_file_type]))[0]\n",
        "show_local_mp4_video(file_name, width=480, height=360) "
      ],
      "execution_count": null,
      "outputs": []
    },
    {
      "cell_type": "code",
      "metadata": {
        "id": "0C8wlUMdnFAI"
      },
      "source": [
        "#student key point mp4\n",
        "file_name = glob.glob(\"\".join([output_student_file_path, '/*', input_file_type]))[0]\n",
        "show_local_mp4_video(file_name, width=480, height=360) "
      ],
      "execution_count": null,
      "outputs": []
    },
    {
      "cell_type": "markdown",
      "metadata": {
        "id": "r40_kprhnd82"
      },
      "source": [
        "## 4. Compute poses \n",
        "  - base : key points ( json )\n",
        "  - PDJ"
      ]
    },
    {
      "cell_type": "code",
      "metadata": {
        "id": "0jd75s0prozY"
      },
      "source": [
        "%cd /content/output\n",
        "!rm -f compute_pdj.py\n",
        "!rm -f compute_pdj.txt"
      ],
      "execution_count": null,
      "outputs": []
    },
    {
      "cell_type": "code",
      "metadata": {
        "id": "3xdlOZI-nxDU"
      },
      "source": [
        "%%writefile compute_pdj.py\n",
        "from os import listdir\n",
        "from os.path import isfile, join\n",
        "import json\n",
        "from scipy.spatial import distance\n",
        "import math\n",
        "import argparse\n",
        "\n",
        "parser = argparse.ArgumentParser(description='Json Path')\n",
        "parser.add_argument('--teacher', required=True, help='json path of teacher')\n",
        "parser.add_argument('--student', required=True, help='json path of student')\n",
        "args = vars(parser.parse_args())\n",
        "\n",
        "# json파일 폴더에서 n개의 json파일을 읽어 (x, y) tuple이 들어있는 (25 keypoints * n frame) 벡터 추출\n",
        "def read_vec(json_path):\n",
        "    json_path = json_path\n",
        "    json_files = [f for f in listdir(json_path) if isfile(join(json_path, f))]\n",
        "    json_files.sort()\n",
        "\n",
        "    keypoint_data = []\n",
        "    for json_file in json_files:\n",
        "        #print(json_file)\n",
        "        with open(json_path+json_file) as f:\n",
        "            data = json.load(f)\n",
        "        ary = data[\"people\"][0][\"pose_keypoints_2d\"]\n",
        "        del ary[2::3]\n",
        "\n",
        "        # 코의 좌표 추출\n",
        "        nose_x = ary[0]\n",
        "        nose_y = ary[1]\n",
        "\n",
        "        odd = ary[0::2]\n",
        "        even = ary[1::2]\n",
        "\n",
        "        # 코의 좌표가 (0, 0)이 되게끔 모든 keypoint 위치를 이동 (shift)\n",
        "        origin_x = [x - nose_x for x in odd]\n",
        "        origin_y = [y - nose_y for y in even]\n",
        "\n",
        "        # 각 keypoint의 위치 정보를 (x, y)로 묶어서 list 안에 넣음\n",
        "        keypoint_data += tuple(zip(origin_x, origin_y))\n",
        "\n",
        "    return keypoint_data\n",
        "\n",
        "# PDJ (Percentage of Detected Joints) 계산식 중 diagonal에 해당하는 값을 base (length between nose and middle hip)의 형태로 구함\n",
        "def get_base(v1, v2):\n",
        "    # 스승과 학생의 base 길이를 각각 구함\n",
        "    base1 = distance.euclidean(v1[0], v1[8]) # 스승\n",
        "    base2 = distance.euclidean(v2[0], v2[8]) # 학생\n",
        "\n",
        "    scaling_factor = base1 / base2\n",
        "    \n",
        "    # 두 base의 평균을 기준 길이(PDJ의 diagonal)로 정함\n",
        "    result = (base1 + base2) / 2\n",
        "    return scaling_factor, result\n",
        "\n",
        "# OKS (Object Keypoint Similarity)를 계산\n",
        "# OKS = exp(-1.0 * (di ** 2) / (2 * alpha * base ** 2))\n",
        "def compute_oks(v1, v2, alpha):\n",
        "    scaling_factor, base = get_base(v1, v2)\n",
        "    nose_to_hip_len = alpha * base\n",
        "\n",
        "    oks = 0\n",
        "    for i in range(len(v1)):\n",
        "        # 학생(v2)의 좌표값에 대해 scaling_factor를 곱해 스승에 맞춤 \n",
        "        v2_scaled = tuple(scaling_factor * val for val in v2[i])\n",
        "\n",
        "        pointwise_dist = distance.euclidean(v1[i], v2_scaled)\n",
        "        oks += math.exp(-1.0 * pointwise_dist ** 2 / (2 * nose_to_hip_len ** 2))\n",
        "\n",
        "    result = oks / len(v1)\n",
        "    return result\n",
        "\n",
        "# PDJ (Percentage of Detected Joints)를 계산\n",
        "def compute_pdj(v1, v2, alpha):\n",
        "    scaling_factor, base = get_base(v1, v2)\n",
        "    nose_to_hip_len = alpha * base\n",
        "\n",
        "    pdj = 0\n",
        "    for i in range(len(v1)):\n",
        "        # 학생(v2)의 좌표값에 대해 scaling_factor를 곱해 스승에 맞춤 \n",
        "        v2_scaled = tuple(scaling_factor * val for val in v2[i])\n",
        "        #print(v2_scaled)\n",
        "        pointwise_dist = distance.euclidean(v1[i], v2_scaled)\n",
        "        if pointwise_dist < nose_to_hip_len:\n",
        "             pdj += 1\n",
        "\n",
        "    result = pdj * 1.0 / len(v1)\n",
        "    return result\n",
        "\n",
        "output_path_teacher = args['teacher']\n",
        "output_path_student = args['student']\n",
        "\n",
        "case_teacher = read_vec(output_path_teacher)\n",
        "case_student = read_vec(output_path_student)\n",
        "\n",
        "#alpha = 0.05\n",
        "#alpha = 0.08\n",
        "alpha = 0.1\n",
        "#alpha = 0.02\n",
        "\n",
        "print(\"Scoring(oks):\", compute_oks(case_teacher, case_student, alpha))\n",
        "print(\"Scoring(pdj):\", compute_pdj(case_teacher, case_student, alpha))"
      ],
      "execution_count": null,
      "outputs": []
    },
    {
      "cell_type": "code",
      "metadata": {
        "id": "SNQ8wd7BphMm"
      },
      "source": [
        "teacher_json_file = \"\".join([glob.glob(\"\".join([output_teacher_json_path, '/*']))[0],\"/\"])\n",
        "student_json_file = \"\".join([glob.glob(\"\".join([output_student_json_path, '/*']))[0],\"/\"])\n",
        "os.system(f\"python compute_pdj.py --teacher '{teacher_json_file}' --student '{student_json_file}' > compute_pdj.txt\")"
      ],
      "execution_count": null,
      "outputs": []
    },
    {
      "cell_type": "code",
      "metadata": {
        "id": "4y5obDDQe-kF"
      },
      "source": [
        "download_file()"
      ],
      "execution_count": null,
      "outputs": []
    }
  ]
}